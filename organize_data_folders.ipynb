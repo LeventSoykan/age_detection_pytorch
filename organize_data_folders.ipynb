{
 "cells": [
  {
   "cell_type": "markdown",
   "metadata": {
    "id": "G0kJsgeqTs0q"
   },
   "source": [
    "**Data Source** : https://www.kaggle.com/datasets/jangedoo/utkface-new"
   ]
  },
  {
   "cell_type": "code",
   "execution_count": 2,
   "metadata": {
    "colab": {
     "base_uri": "https://localhost:8080/"
    },
    "id": "mr0Uo3ppWdx9",
    "outputId": "475d2457-ca3b-4cf5-e751-bcbf7e794548"
   },
   "outputs": [],
   "source": [
    "# import necessary modules\n",
    "from zipfile import ZipFile\n",
    "import os"
   ]
  },
  {
   "cell_type": "code",
   "execution_count": 6,
   "metadata": {
    "colab": {
     "base_uri": "https://localhost:8080/"
    },
    "id": "s83e22SUSFwA",
    "outputId": "4a948cf9-c5ac-4470-facc-c092ad197b15"
   },
   "outputs": [
    {
     "name": "stdout",
     "output_type": "stream",
     "text": [
      "Extracting all the files now...\n",
      "Done!\n"
     ]
    }
   ],
   "source": [
    "# zip file for dataset\n",
    "file_name = './data/archive.zip'\n",
    "target_path = './data/'\n",
    "\n",
    "with ZipFile(file_name, 'r') as zip:\n",
    "    #zip.printdir()\n",
    "\n",
    "    # extracting all the files\n",
    "    print('Extracting all the files now...')\n",
    "    zip.extractall(target_path)\n",
    "    print('Done!')"
   ]
  },
  {
   "cell_type": "code",
   "execution_count": 13,
   "metadata": {
    "id": "0zBynBQLa2bc"
   },
   "outputs": [],
   "source": [
    "data_path = './data/'\n",
    "current_path = './data/UTKFace/'"
   ]
  },
  {
   "cell_type": "code",
   "execution_count": 14,
   "metadata": {
    "colab": {
     "base_uri": "https://localhost:8080/"
    },
    "id": "Ae28rCVhZIma",
    "outputId": "0e805b64-00d0-493c-a6ec-0eb3e40d7460"
   },
   "outputs": [
    {
     "name": "stdout",
     "output_type": "stream",
     "text": [
      "5000\n",
      "10000\n",
      "15000\n",
      "20000\n"
     ]
    }
   ],
   "source": [
    "age_bins = {}\n",
    "for key in ['0-2', '3-12', '13-18', '19-24', '25-35', '36-44', '45-60', '60+']:\n",
    "    age_bins[key] = []\n",
    "count = 0\n",
    "for item in os.listdir(current_path):\n",
    "    count += 1\n",
    "    age = int(item.split('_')[0])\n",
    "    if 0<=age<=2:\n",
    "        age_bins['0-2'].append(item)\n",
    "    elif 3<=age<=12:\n",
    "        age_bins['3-12'].append(item)\n",
    "    elif 13<=age<=18:\n",
    "        age_bins['13-18'].append(item)\n",
    "    elif 19<=age<=24:\n",
    "        age_bins['19-24'].append(item)\n",
    "    elif 25<=age<=35:\n",
    "        age_bins['25-35'].append(item)\n",
    "    elif 36<=age<=44:\n",
    "        age_bins['36-44'].append(item)\n",
    "    elif 45<=age<=60:\n",
    "        age_bins['45-60'].append(item)\n",
    "    elif 61<=age:\n",
    "        age_bins['60+'].append(item)\n",
    "    if count%5000 == 0:\n",
    "        print(count)"
   ]
  },
  {
   "cell_type": "code",
   "execution_count": 15,
   "metadata": {
    "id": "bSRZ5bgRqPDf"
   },
   "outputs": [],
   "source": [
    "for key, names in age_bins.items():\n",
    "    folder_path = f'{data_path}{key}/'\n",
    "    if not os.path.isdir(folder_path):\n",
    "        os.mkdir(folder_path)\n",
    "    for name in names:\n",
    "        filename = name.split('.')[0] + '.jpg'\n",
    "        file_path = f'{current_path}{name}'\n",
    "        os.rename(file_path, f'{folder_path}{filename}')"
   ]
  },
  {
   "cell_type": "code",
   "execution_count": 18,
   "metadata": {
    "colab": {
     "base_uri": "https://localhost:8080/"
    },
    "id": "WmoUbW-_uzAu",
    "outputId": "f4890090-3a4b-4ae1-ed99-d0c743debbfb"
   },
   "outputs": [
    {
     "name": "stdout",
     "output_type": "stream",
     "text": [
      "0-2\n",
      "1605\n",
      "13-18\n",
      "1082\n",
      "19-24\n",
      "2408\n",
      "25-35\n",
      "8204\n",
      "3-12\n",
      "1808\n",
      "36-44\n",
      "2548\n",
      "45-60\n",
      "3656\n",
      "60+\n",
      "2397\n",
      "Total\n",
      "23708\n"
     ]
    }
   ],
   "source": [
    "total = 0\n",
    "for folder in os.listdir(data_path):\n",
    "    print(folder)\n",
    "    cnt = len(os.listdir(f'{data_path}{folder}'))\n",
    "    total += cnt\n",
    "    print(cnt)\n",
    "print('Total')\n",
    "print(total)"
   ]
  },
  {
   "cell_type": "code",
   "execution_count": null,
   "metadata": {
    "id": "OlvrR32Qz3c1"
   },
   "outputs": [],
   "source": []
  }
 ],
 "metadata": {
  "colab": {
   "provenance": []
  },
  "kernelspec": {
   "display_name": "Python 3 (ipykernel)",
   "language": "python",
   "name": "python3"
  },
  "language_info": {
   "codemirror_mode": {
    "name": "ipython",
    "version": 3
   },
   "file_extension": ".py",
   "mimetype": "text/x-python",
   "name": "python",
   "nbconvert_exporter": "python",
   "pygments_lexer": "ipython3",
   "version": "3.11.1"
  }
 },
 "nbformat": 4,
 "nbformat_minor": 1
}
